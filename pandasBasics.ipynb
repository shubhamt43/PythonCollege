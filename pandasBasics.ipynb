{
  "cells": [
    {
      "cell_type": "code",
      "execution_count": 1,
      "metadata": {
        "id": "wus3msXsd-iD"
      },
      "outputs": [],
      "source": [
        "import pandas as pd"
      ]
    },
    {
      "cell_type": "code",
      "execution_count": 2,
      "metadata": {
        "id": "-9y8-6EXe2Wd"
      },
      "outputs": [],
      "source": [
        "# Creating a DataFrame with Product Data\n",
        "data = {\n",
        "    \"Product\": [\"Laptop\", \"Phone\", \"Tablet\", \"Monitor\", \"Keyboard\"],\n",
        "    \"Price\": [1200, 800, 300, 400, 100],\n",
        "    \"Stock\": [10, 25, 30, 15, 50],\n",
        "    \"Category\": [\"Electronics\", \"Electronics\", \"Electronics\", \"Accessories\", \"Accessories\"]\n",
        "}\n",
        "df = pd.DataFrame(data)"
      ]
    },
    {
      "cell_type": "code",
      "execution_count": 3,
      "metadata": {
        "colab": {
          "base_uri": "https://localhost:8080/"
        },
        "id": "91Z_OztHe4zE",
        "outputId": "955a4415-905d-437d-a9d6-6fd93061e2fd"
      },
      "outputs": [
        {
          "name": "stdout",
          "output_type": "stream",
          "text": [
            "Original DataFrame:\n",
            "    Product  Price  Stock     Category\n",
            "0    Laptop   1200     10  Electronics\n",
            "1     Phone    800     25  Electronics\n",
            "2    Tablet    300     30  Electronics\n",
            "3   Monitor    400     15  Accessories\n",
            "4  Keyboard    100     50  Accessories\n"
          ]
        }
      ],
      "source": [
        "# Display the DataFrame\n",
        "print(\"Original DataFrame:\")\n",
        "print(df)"
      ]
    },
    {
      "cell_type": "code",
      "execution_count": 4,
      "metadata": {
        "colab": {
          "base_uri": "https://localhost:8080/"
        },
        "id": "kgjw2Pnee61c",
        "outputId": "84067e09-0526-4048-c824-3ec5727d1586"
      },
      "outputs": [
        {
          "name": "stdout",
          "output_type": "stream",
          "text": [
            "\n",
            "DataFrame after adding Discounted Price:\n",
            "    Product  Price  Stock     Category  Discounted Price\n",
            "0    Laptop   1200     10  Electronics            1080.0\n",
            "1     Phone    800     25  Electronics             720.0\n",
            "2    Tablet    300     30  Electronics             270.0\n",
            "3   Monitor    400     15  Accessories             360.0\n",
            "4  Keyboard    100     50  Accessories              90.0\n"
          ]
        }
      ],
      "source": [
        "# Adding a Discounted Price Column\n",
        "df[\"Discounted Price\"] = df[\"Price\"] * 0.90  # Applying a 10% discount\n",
        "print(\"\\nDataFrame after adding Discounted Price:\")\n",
        "print(df)"
      ]
    },
    {
      "cell_type": "code",
      "execution_count": 4,
      "metadata": {
        "colab": {
          "base_uri": "https://localhost:8080/"
        },
        "id": "MPBPgpZne9Ps",
        "outputId": "3ce77b54-e78b-4ba3-e995-5cceb6d858d6"
      },
      "outputs": [
        {
          "name": "stdout",
          "output_type": "stream",
          "text": [
            "\n",
            "Filtered Products (Price > 500):\n",
            "  Product  Price  Stock     Category\n",
            "0  Laptop   1200     10  Electronics\n",
            "1   Phone    800     25  Electronics\n"
          ]
        }
      ],
      "source": [
        "# Filtering products priced above $500\n",
        "filtered_df = df[df[\"Price\"] > 500]\n",
        "print(\"\\nFiltered Products (Price > 500):\")\n",
        "print(filtered_df)"
      ]
    },
    {
      "cell_type": "code",
      "execution_count": 6,
      "metadata": {
        "colab": {
          "base_uri": "https://localhost:8080/"
        },
        "id": "tG2D2VJTe_IE",
        "outputId": "8422149d-95cf-4945-e645-71205f478d9a"
      },
      "outputs": [
        {
          "name": "stdout",
          "output_type": "stream",
          "text": [
            "\n",
            "Average Price per Category:\n",
            "Category\n",
            "Accessories    250.000000\n",
            "Electronics    766.666667\n",
            "Name: Price, dtype: float64\n"
          ]
        }
      ],
      "source": [
        "# Grouping by Category and computing average price\n",
        "category_avg_price = df.groupby(\"Category\")[\"Price\"].mean()\n",
        "print(\"\\nAverage Price per Category:\")\n",
        "print(category_avg_price)"
      ]
    },
    {
      "cell_type": "code",
      "execution_count": 5,
      "metadata": {
        "colab": {
          "base_uri": "https://localhost:8080/"
        },
        "id": "K7A1lNfVfA0c",
        "outputId": "59f90d0b-3e2b-44d9-abee-1719ddba8368"
      },
      "outputs": [
        {
          "name": "stdout",
          "output_type": "stream",
          "text": [
            "\n",
            "Data saved to product_data.csv\n"
          ]
        }
      ],
      "source": [
        "# Saving to CSV\n",
        "df.to_csv(\"product_data.csv\", index=False)\n",
        "print(\"\\nData saved to product_data.csv\")"
      ]
    },
    {
      "cell_type": "code",
      "execution_count": null,
      "metadata": {},
      "outputs": [],
      "source": []
    }
  ],
  "metadata": {
    "colab": {
      "provenance": []
    },
    "kernelspec": {
      "display_name": "Python 3",
      "name": "python3"
    },
    "language_info": {
      "codemirror_mode": {
        "name": "ipython",
        "version": 3
      },
      "file_extension": ".py",
      "mimetype": "text/x-python",
      "name": "python",
      "nbconvert_exporter": "python",
      "pygments_lexer": "ipython3",
      "version": "3.13.2"
    }
  },
  "nbformat": 4,
  "nbformat_minor": 0
}
