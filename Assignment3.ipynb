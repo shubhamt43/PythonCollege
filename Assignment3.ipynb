{
  "cells": [
    {
      "cell_type": "markdown",
      "id": "d5fd74e5-20e6-4cea-a923-700246fded78",
      "metadata": {
        "id": "d5fd74e5-20e6-4cea-a923-700246fded78"
      },
      "source": [
        "#### Shubham Subodh Tiwari SE3-47 "
      ]
    },
    {
      "cell_type": "code",
      "execution_count": 1,
      "id": "BC8yOtpCjy1c",
      "metadata": {
        "colab": {
          "base_uri": "https://localhost:8080/"
        },
        "id": "BC8yOtpCjy1c",
        "outputId": "ab703429-f95c-4b45-e93c-bdcff2baaef7"
      },
      "outputs": [
        {
          "name": "stdout",
          "output_type": "stream",
          "text": [
            "Rotated list: [4, 5, 1, 2, 3]\n"
          ]
        }
      ],
      "source": [
        "class ListNode:\n",
        "    def __init__(self, val=0, next=None):\n",
        "        self.val = val\n",
        "        self.next = next\n",
        "\n",
        "class Solution:\n",
        "    def rotateRight(self, head: ListNode, k: int) -> ListNode:\n",
        "        if not head or not head.next or k == 0:\n",
        "            return head\n",
        "\n",
        "        length = 1\n",
        "        tail = head\n",
        "        while tail.next:\n",
        "            tail = tail.next\n",
        "            length += 1\n",
        "\n",
        "        k = k % length\n",
        "        if k == 0:\n",
        "            return head\n",
        "\n",
        "        new_tail = head\n",
        "        for _ in range(length - k - 1):\n",
        "            new_tail = new_tail.next\n",
        "\n",
        "        new_head = new_tail.next\n",
        "        new_tail.next = None\n",
        "        tail.next = head\n",
        "\n",
        "        return new_head\n",
        "\n",
        "def create_linked_list(lst):\n",
        "    if not lst:\n",
        "        return None\n",
        "    head = ListNode(lst[0])\n",
        "    current = head\n",
        "    for val in lst[1:]:\n",
        "        current.next = ListNode(val)\n",
        "        current = current.next\n",
        "    return head\n",
        "\n",
        "def linked_list_to_list(head):\n",
        "    result = []\n",
        "    current = head\n",
        "    while current:\n",
        "        result.append(current.val)\n",
        "        current = current.next\n",
        "    return result\n",
        "\n",
        "if __name__ == \"__main__\":\n",
        "    sol = Solution()\n",
        "    input_str = input(\"Enter the elements of the list separated by commas: \")\n",
        "    input_list = [int(x) for x in input_str.split(',')]\n",
        "    k = int(input(\"Enter the number of rotations (k): \"))\n",
        "\n",
        "    head = create_linked_list(input_list)\n",
        "    rotated_head = Solution().rotateRight(head, k)\n",
        "    print(\"Rotated list:\", linked_list_to_list(rotated_head))"
      ]
    }
  ],
  "metadata": {
    "colab": {
      "provenance": []
    },
    "kernelspec": {
      "display_name": "Python 3",
      "language": "python",
      "name": "python3"
    },
    "language_info": {
      "codemirror_mode": {
        "name": "ipython",
        "version": 3
      },
      "file_extension": ".py",
      "mimetype": "text/x-python",
      "name": "python",
      "nbconvert_exporter": "python",
      "pygments_lexer": "ipython3",
      "version": "3.13.2"
    }
  },
  "nbformat": 4,
  "nbformat_minor": 5
}
