{
  "cells": [
    {
      "cell_type": "code",
      "execution_count": 1,
      "metadata": {
        "id": "BIU229SctKgc"
      },
      "outputs": [],
      "source": [
        "import tkinter as tk\n",
        "from tkinter import messagebox\n",
        "# Function to display the selected options\n",
        "\n",
        "def submit():\n",
        "  name = name_entry.get()\n",
        "  gender = gender_var.get()\n",
        "  skills = []\n",
        "  if skill1_var.get():\n",
        "    skills.append(\"Python\")\n",
        "  if skill2_var.get():\n",
        "    skills.append(\"Java\")\n",
        "  if skill3_var.get():\n",
        "    skills.append(\"C++\")\n",
        "  skill_text = \", \".join(skills) if skills else \"None\"\n",
        "\n",
        "  info = f\"Name: {name}\\nGender: {gender}\\nSkills: {skill_text}\"\n",
        "  messagebox.showinfo(\"Information Submitted\", info)\n",
        "\n",
        "# Function for custom dialog box\n",
        "def custom_dialog():\n",
        "  messagebox.showwarning(\"Custom Dialog\", \"This is a custom warning dialog!\")\n",
        "\n",
        "# Main window\n",
        "root = tk.Tk()\n",
        "root.title(\"User Information Form\")\n",
        "root.geometry(\"400x400\")\n",
        "# Label\n",
        "# Name Entry\n",
        "tk.Label(root, text=\"User Information Form\", font=(\"Arial\", 18)).pack(pady=10)\n",
        "tk.Label(root, text=\"Enter your name:\").pack(pady=5)\n",
        "name_entry = tk.Entry(root, width=30)\n",
        "name_entry.pack(pady=5)\n",
        "# Radio Button for Gender\n",
        "tk.Label(root, text=\"Select Gender:\").pack(pady=5)\n",
        "gender_var = tk.StringVar(value=\"None\")\n",
        "tk.Radiobutton(root, text=\"Male\", variable=gender_var, value=\"Male\").pack()\n",
        "tk.Radiobutton(root, text=\"Female\", variable=gender_var, value=\"Female\").pack()\n",
        "# Checkbox for Skills\n",
        "tk.Label(root, text=\"Select Skills:\").pack(pady=5)\n",
        "skill1_var = tk.BooleanVar()\n",
        "skill2_var = tk.BooleanVar()\n",
        "skill3_var = tk.BooleanVar()\n",
        "tk.Checkbutton(root, text=\"Python\", variable=skill1_var).pack()\n",
        "tk.Checkbutton(root, text=\"Java\", variable=skill2_var).pack()\n",
        "tk.Checkbutton(root, text=\"C++\", variable=skill3_var).pack()\n",
        "# Submit Button\n",
        "tk.Button(root, text=\"Submit\", command=submit).pack(pady=10)\n",
        "# Custom Dialog Box Button\n",
        "tk.Button(root, text=\"Show Custom Dialog\", command=custom_dialog).pack(pady=10)\n",
        "# Run the GUI loop\n",
        "root.mainloop()"
      ]
    },
    {
      "cell_type": "markdown",
      "metadata": {},
      "source": [
        "![alt text](<Screenshot 2025-04-18 121036.png>)"
      ]
    }
  ],
  "metadata": {
    "colab": {
      "provenance": []
    },
    "kernelspec": {
      "display_name": "Python 3",
      "name": "python3"
    },
    "language_info": {
      "codemirror_mode": {
        "name": "ipython",
        "version": 3
      },
      "file_extension": ".py",
      "mimetype": "text/x-python",
      "name": "python",
      "nbconvert_exporter": "python",
      "pygments_lexer": "ipython3",
      "version": "3.13.2"
    }
  },
  "nbformat": 4,
  "nbformat_minor": 0
}
