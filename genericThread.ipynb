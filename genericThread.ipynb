{
  "nbformat": 4,
  "nbformat_minor": 0,
  "metadata": {
    "colab": {
      "provenance": []
    },
    "kernelspec": {
      "name": "python3",
      "display_name": "Python 3"
    },
    "language_info": {
      "name": "python"
    }
  },
  "cells": [
    {
      "cell_type": "markdown",
      "source": [
        "Sujal Vaishnav 51"
      ],
      "metadata": {
        "id": "VY9DEV8GSqIs"
      }
    },
    {
      "cell_type": "code",
      "source": [
        "import threading\n",
        "import time\n",
        "\n",
        "def print_numbers():\n",
        "    for i in range(1, 6):\n",
        "        print(f\"Thread 1 - Number: {i}\")\n",
        "        time.sleep(1)\n",
        "\n",
        "def print_letters():\n",
        "    for letter in 'ABCDE':\n",
        "        print(f\"Thread 2 - Letter: {letter}\")\n",
        "        time.sleep(1)\n",
        "\n",
        "def print_squares():\n",
        "    for i in range(1, 6):\n",
        "        print(f\"Thread 3 - Square of {i}: {i ** 2}\")\n",
        "        time.sleep(1)\n"
      ],
      "metadata": {
        "id": "OSpfjl4dWNUV"
      },
      "execution_count": null,
      "outputs": []
    },
    {
      "cell_type": "code",
      "source": [
        "# Creating threads\n",
        "thread1 = threading.Thread(target=print_numbers)\n",
        "thread2 = threading.Thread(target=print_letters)\n",
        "thread3 = threading.Thread(target=print_squares)\n",
        "\n",
        "# Starting threads\n",
        "thread1.start()\n",
        "thread2.start()\n",
        "thread3.start()\n",
        "\n",
        "# Ensuring all threads complete\n",
        "thread1.join()\n",
        "thread2.join()\n",
        "thread3.join()\n",
        "\n",
        "print(\"All threads have finished executing.\")"
      ],
      "metadata": {
        "colab": {
          "base_uri": "https://localhost:8080/"
        },
        "id": "9QkOgGi8XtBV",
        "outputId": "ce5dd027-9e4f-4b62-9499-a2c07357b21e"
      },
      "execution_count": null,
      "outputs": [
        {
          "output_type": "stream",
          "name": "stdout",
          "text": [
            "Thread 1 - Number: 1\n",
            "Thread 2 - Letter: A\n",
            "Thread 3 - Square of 1: 1\n",
            "Thread 1 - Number: 2Thread 2 - Letter: B\n",
            "\n",
            "Thread 3 - Square of 2: 4\n",
            "Thread 2 - Letter: CThread 3 - Square of 3: 9\n",
            "\n",
            "Thread 1 - Number: 3\n",
            "Thread 2 - Letter: DThread 3 - Square of 4: 16\n",
            "Thread 1 - Number: 4\n",
            "\n",
            "Thread 3 - Square of 5: 25Thread 1 - Number: 5\n",
            "\n",
            "Thread 2 - Letter: E\n",
            "All threads have finished executing.\n"
          ]
        }
      ]
    },
    {
      "cell_type": "code",
      "source": [],
      "metadata": {
        "id": "xoeXhRDMYACM"
      },
      "execution_count": null,
      "outputs": []
    }
  ]
}