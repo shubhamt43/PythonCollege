{
  "cells": [
    {
      "cell_type": "code",
      "execution_count": null,
      "metadata": {
        "colab": {
          "base_uri": "https://localhost:8080/"
        },
        "id": "XX1gS0XBcMp4",
        "outputId": "825acbef-20f1-4133-924c-9d9612e9cb58"
      },
      "outputs": [
        {
          "name": "stdout",
          "output_type": "stream",
          "text": [
            "Pi: 3.141592653589793\n",
            "Euler's Number: 2.718281828459045\n"
          ]
        }
      ],
      "source": [
        "import math\n",
        "import numpy as np\n",
        "\n",
        "# Exploring basic NumPy methods (without array methods)\n",
        "\n",
        "# Mathematical Constants\n",
        "print(\"Pi:\", np.pi)\n",
        "print(\"Euler's Number:\", np.e)"
      ]
    },
    {
      "cell_type": "code",
      "execution_count": 18,
      "metadata": {
        "colab": {
          "base_uri": "https://localhost:8080/"
        },
        "id": "5WRZjwoPcXHV",
        "outputId": "82c6164a-b63d-439e-b4e8-d24577b905f0"
      },
      "outputs": [
        {
          "name": "stdout",
          "output_type": "stream",
          "text": [
            "Sin(45 degrees): 0.7071067811865475\n",
            "Cos(45 degrees): 0.7071067811865476\n",
            "Tan(45 degrees): 0.9999999999999999\n"
          ]
        }
      ],
      "source": [
        "# Trigonometric Functions\n",
        "angle_rad = np.deg2rad(45)  # Convert 45 degrees to radians\n",
        "print(\"Sin(45 degrees):\", np.sin(angle_rad))\n",
        "print(\"Cos(45 degrees):\", np.cos(angle_rad))\n",
        "print(\"Tan(45 degrees):\", np.tan(angle_rad))"
      ]
    },
    {
      "cell_type": "code",
      "execution_count": 19,
      "metadata": {
        "colab": {
          "base_uri": "https://localhost:8080/"
        },
        "id": "ITY6PMeTcs0M",
        "outputId": "6d8be02e-a9a9-4f05-ae9e-68a5b559e5ba"
      },
      "outputs": [
        {
          "name": "stdout",
          "output_type": "stream",
          "text": [
            "Exponential of 2: 7.38905609893065\n",
            "Natural Log of 10: 2.302585092994046\n",
            "Log base 10 of 100: 2.0\n",
            "Log base 2 of 8: 3.0\n"
          ]
        }
      ],
      "source": [
        "# Exponential and Logarithmic Functions\n",
        "print(\"Exponential of 2:\", np.exp(2))\n",
        "print(\"Natural Log of 10:\", np.log(10))\n",
        "print(\"Log base 10 of 100:\", np.log10(100))\n",
        "print(\"Log base 2 of 8:\", np.log2(8))"
      ]
    },
    {
      "cell_type": "code",
      "execution_count": 20,
      "metadata": {
        "colab": {
          "base_uri": "https://localhost:8080/"
        },
        "id": "nvLDLY7GdNQ7",
        "outputId": "df61b517-0cbf-4912-aa2b-6ce11020b2e0"
      },
      "outputs": [
        {
          "name": "stdout",
          "output_type": "stream",
          "text": [
            "Ceil of 4.3: 5.0\n",
            "Floor of 4.7: 4.0\n",
            "Round 4.5: 4.0\n"
          ]
        }
      ],
      "source": [
        "# Rounding Functions\n",
        "print(\"Ceil of 4.3:\", np.ceil(4.3))\n",
        "print(\"Floor of 4.7:\", np.floor(4.7))\n",
        "print(\"Round 4.5:\", np.round(4.5))"
      ]
    },
    {
      "cell_type": "code",
      "execution_count": 21,
      "metadata": {
        "colab": {
          "base_uri": "https://localhost:8080/"
        },
        "id": "bluYvBJyd2v7",
        "outputId": "b19d738d-7bbd-4ad0-9f63-7dd8ba0e273b"
      },
      "outputs": [
        {
          "name": "stdout",
          "output_type": "stream",
          "text": [
            "Random Number [0,1]: 0.30322241825197094\n",
            "Random Integer [1,10]: 6\n"
          ]
        }
      ],
      "source": [
        "# Random Number Generation\n",
        "print(\"Random Number [0,1]:\", np.random.rand())\n",
        "print(\"Random Integer [1,10]:\", np.random.randint(1, 10))"
      ]
    },
    {
      "cell_type": "code",
      "execution_count": 22,
      "metadata": {
        "colab": {
          "base_uri": "https://localhost:8080/"
        },
        "id": "zN4_snDdd-QD",
        "outputId": "1db61cdb-b55e-4be7-b794-214f69337aec"
      },
      "outputs": [
        {
          "name": "stdout",
          "output_type": "stream",
          "text": [
            "Mean: 5.0\n",
            "Median: 5.0\n",
            "Standard Deviation: 2.581988897471611\n",
            "Variance: 6.666666666666667\n"
          ]
        }
      ],
      "source": [
        "# Statistical Functions\n",
        "data = [1, 2, 3, 4, 5, 6, 7, 8, 9]\n",
        "print(\"Mean:\", np.mean(data))\n",
        "print(\"Median:\", np.median(data))\n",
        "print(\"Standard Deviation:\", np.std(data))\n",
        "print(\"Variance:\", np.var(data))"
      ]
    },
    {
      "cell_type": "code",
      "execution_count": 23,
      "metadata": {
        "colab": {
          "base_uri": "https://localhost:8080/"
        },
        "id": "PKxMj3-re6ID",
        "outputId": "82c80e71-0827-40df-bf80-98f87a28dea5"
      },
      "outputs": [
        {
          "name": "stdout",
          "output_type": "stream",
          "text": [
            "GCD of 24 and 36: 12\n",
            "LCM of 6 and 8: 24\n"
          ]
        }
      ],
      "source": [
        "# Greatest Common Divisor (GCD) and Least Common Multiple (LCM)\n",
        "print(\"GCD of 24 and 36:\", np.gcd(24, 36))\n",
        "print(\"LCM of 6 and 8:\", np.lcm(6, 8))"
      ]
    },
    {
      "cell_type": "code",
      "execution_count": 25,
      "metadata": {
        "colab": {
          "base_uri": "https://localhost:8080/"
        },
        "id": "XZlekx-tfCNz",
        "outputId": "19cf0a6b-c038-432f-b8da-1548a8d0eae9"
      },
      "outputs": [
        {
          "name": "stdout",
          "output_type": "stream",
          "text": [
            "Factorial of 5: 120\n",
            "2 to the power of 3: 8\n"
          ]
        }
      ],
      "source": [
        "# Factorial and Power\n",
        "print(\"Factorial of 5:\", math.factorial(5))\n",
        "print(\"2 to the power of 3:\", np.power(2, 3))"
      ]
    }
  ],
  "metadata": {
    "colab": {
      "provenance": []
    },
    "kernelspec": {
      "display_name": "Python 3",
      "name": "python3"
    },
    "language_info": {
      "name": "python",
      "version": "3.13.2"
    }
  },
  "nbformat": 4,
  "nbformat_minor": 0
}
