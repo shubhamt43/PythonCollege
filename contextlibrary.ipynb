{
  "metadata": {
    "kernelspec": {
      "name": "python",
      "display_name": "Python (Pyodide)",
      "language": "python"
    },
    "language_info": {
      "codemirror_mode": {
        "name": "python",
        "version": 3
      },
      "file_extension": ".py",
      "mimetype": "text/x-python",
      "name": "python",
      "nbconvert_exporter": "python",
      "pygments_lexer": "ipython3",
      "version": "3.8"
    }
  },
  "nbformat_minor": 5,
  "nbformat": 4,
  "cells": [
    {
      "id": "fe35492f-e20c-4d8c-aa41-f55e13bbc0e8",
      "cell_type": "code",
      "source": "from contextlib import contextmanager\n\n@contextmanager\ndef genericFileFunction (filename, method):\n    file = open (filename, method)\n    yield file\n    file.close ()\n\nif __name__ == '__main__':\n    with genericFileFunction('./shubham.txt','w') as file:\n        file.write(\"Hello Guys!!!!😁😁😁 \\n\")\n        print(\"RightNow I Am Writing In This shubham.txt File\\n\")\n\n    with genericFileFunction('./shubham.txt','r') as file:\n        content = file.read()\n        print(content)\n\n    with genericFileFunction('./shubham.txt','a') as file:\n        file.write(\"I Am Don Don Dooooon Doooooooooooooooooon!!!!!!!!!!🤣🤣😂😂🤣🤣 \\n\")\n\n    with genericFileFunction('./shubham.txt','r') as file:\n        new_content = file.read()\n        print(new_content)\n\n    \n\n    # Remove the pass and call the function to perform write.\n    # Read the file that was created while writing.\n    # Make the changes in the file by appending some material.\n    # Again read the same file.\n\n    '''\n    Print all the output of the function.\n    For better representation, please use jupyter.\n    Will also aid in easy maintanence of files for submissions.\n    '''",
      "metadata": {
        "trusted": true
      },
      "outputs": [
        {
          "name": "stdout",
          "output_type": "stream",
          "text": "RightNow I Am Writing In This shubham.txt File\n\nHello Guys!!!!😁😁😁 \n\nHello Guys!!!!😁😁😁 \nI Am Don Don Dooooon Doooooooooooooooooon!!!!!!!!!!🤣🤣😂😂🤣🤣 \n\n"
        }
      ],
      "execution_count": 10
    },
    {
      "id": "93b0cec5-bacc-4751-aac0-6e4a1c201a40",
      "cell_type": "code",
      "source": "",
      "metadata": {
        "trusted": true
      },
      "outputs": [],
      "execution_count": null
    },
    {
      "id": "c8bfa7cb-8cc8-480d-a793-3a66f894f430",
      "cell_type": "code",
      "source": "",
      "metadata": {
        "trusted": true
      },
      "outputs": [],
      "execution_count": null
    }
  ]
}